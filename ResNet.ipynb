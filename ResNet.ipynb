{
 "cells": [
  {
   "cell_type": "code",
   "execution_count": 1,
   "id": "1488c2af-01dd-429d-9da7-93ff766383bc",
   "metadata": {},
   "outputs": [
    {
     "name": "stdout",
     "output_type": "stream",
     "text": [
      "Model: \"sequential\"\n",
      "_________________________________________________________________\n",
      " Layer (type)                Output Shape              Param #   \n",
      "=================================================================\n",
      " resnet50 (Functional)       (None, 13, 13, 2048)      23587712  \n",
      "                                                                 \n",
      " global_average_pooling2d (  (None, 2048)              0         \n",
      " GlobalAveragePooling2D)                                         \n",
      "                                                                 \n",
      " dense (Dense)               (None, 1024)              2098176   \n",
      "                                                                 \n",
      " dense_1 (Dense)             (None, 3)                 3075      \n",
      "                                                                 \n",
      "=================================================================\n",
      "Total params: 25688963 (98.00 MB)\n",
      "Trainable params: 2101251 (8.02 MB)\n",
      "Non-trainable params: 23587712 (89.98 MB)\n",
      "_________________________________________________________________\n"
     ]
    }
   ],
   "source": [
    "import tensorflow as tf\n",
    "import numpy as np\n",
    "import pandas as pd\n",
    "import matplotlib.pyplot as plt\n",
    "from tensorflow.keras.applications import ResNet50\n",
    "from tensorflow.keras.models import Sequential\n",
    "from tensorflow.keras.layers import Dense, GlobalAveragePooling2D\n",
    "from tensorflow.keras.optimizers import Adam\n",
    "from tensorflow.keras.utils import to_categorical\n",
    "from tensorflow.keras import layers, models\n",
    "# from tensorflow.keras.preprocessing.image import ImageDataGenerator,load_img, img_to_array\n",
    "from sklearn.metrics import confusion_matrix, classification_report"
   ]
  },
  {
   "cell_type": "code",
   "execution_count": 2,
   "id": "e4462558-f91b-4640-8a9c-99b47e9ffde1",
   "metadata": {},
   "outputs": [
    {
     "name": "stdout",
     "output_type": "stream",
     "text": [
      "Loading Training Dataset...\n",
      "Found 344 files belonging to 3 classes.\n",
      "Using 276 files for training.\n",
      "Loading Validation Dataset...\n",
      "Found 344 files belonging to 3 classes.\n",
      "Using 68 files for validation.\n"
     ]
    }
   ],
   "source": [
    "data_directory = 'dataset' #directory path\n",
    "image_height = 400\n",
    "image_width = 400\n",
    "batch_size = 32\n",
    "validation_split = 0.2  # 20% of the training data will be used for validation\n",
    "\n",
    "print(\"Loading Training Dataset......\")\n",
    "train_ds = tf.keras.utils.image_dataset_from_directory(\n",
    "    data_directory, #directory path\n",
    "    labels='inferred',#labels are generated from the directory structure\n",
    "    label_mode='categorical', # categorical vector\n",
    "    validation_split=validation_split, # tells to reserve portion of this size\n",
    "    subset=\"training\", # This selects the training subset\n",
    "    seed=48, # Set a seed for shuffling and split consistency\n",
    "    image_size=(image_height, image_width),\n",
    "    batch_size=batch_size\n",
    ")\n",
    "\n",
    "\n",
    "print(\"Loading Validation Dataset......\")\n",
    "val_ds = tf.keras.utils.image_dataset_from_directory(\n",
    "    data_directory, #directory path\n",
    "    labels='inferred',# labels are generated from the directory structure\n",
    "    label_mode='categorical', #categorical vector\n",
    "    validation_split=validation_split, #split size\n",
    "    subset=\"validation\", # This selects the validation split portion\n",
    "    seed=48, # seed for consistent splitting\n",
    "    image_size=(image_height, image_width),\n",
    "    batch_size=batch_size\n",
    ")\n",
    "\n"
   ]
  },
  {
   "cell_type": "code",
   "execution_count": null,
   "id": "705a4e98-7048-4126-a0b3-e64560cd20b9",
   "metadata": {},
   "outputs": [],
   "source": [
    "# Using ResNet pre-trained model \n",
    "num_classes = 3\n",
    "image_shape = (400, 400, 3) # Example: CIFAR-10 image size\n",
    "\n",
    "# 1. Load the Pre-trained ResNet50 Model\n",
    "# 'weights'='imagenet' loads weights trained on ImageNet.\n",
    "# 'include_top'=False removes the model's final classification layer.\n",
    "base_model = ResNet50(\n",
    "    weights='imagenet', \n",
    "    include_top=False, \n",
    "    input_shape=image_shape\n",
    ")\n",
    "\n",
    "# 2. Freeze the base model layers\n",
    "# This prevents the pre-trained weights from being updated during the first training phase.\n",
    "base_model.trainable = False\n",
    "\n",
    "# 3. Build the new model on top of the base\n",
    "model = Sequential([\n",
    "    base_model,\n",
    "    GlobalAveragePooling2D(), # Efficiently reduces the spatial dimensions\n",
    "    Dense(1024, activation='relu'),\n",
    "    Dense(num_classes, activation='softmax') #output layer\n",
    "])"
   ]
  },
  {
   "cell_type": "code",
   "execution_count": null,
   "id": "e3783e14-5df6-43aa-b3b6-fe148d104863",
   "metadata": {},
   "outputs": [],
   "source": [
    "# 4. Compile the model\n",
    "model.compile(\n",
    "    optimizer=Adam(learning_rate=0.0001), \n",
    "    loss='categorical_crossentropy', \n",
    "    metrics=['accuracy']\n",
    ")"
   ]
  },
  {
   "cell_type": "code",
   "execution_count": null,
   "id": "5d279e14-fa33-4c5d-b772-f89de1e5cf15",
   "metadata": {},
   "outputs": [],
   "source": [
    "# 5. Model Summary \n",
    "model.summary()"
   ]
  },
  {
   "cell_type": "code",
   "execution_count": 4,
   "id": "de1cad7e-d12c-4d7e-a95e-fc37643a2380",
   "metadata": {},
   "outputs": [
    {
     "name": "stdout",
     "output_type": "stream",
     "text": [
      "Epoch 1/10\n",
      "9/9 [==============================] - 97s 11s/step - loss: 0.8526 - accuracy: 0.6341 - val_loss: 0.5113 - val_accuracy: 0.8824\n",
      "Epoch 2/10\n",
      "9/9 [==============================] - 90s 10s/step - loss: 0.3376 - accuracy: 0.9674 - val_loss: 0.2764 - val_accuracy: 0.9412\n",
      "Epoch 3/10\n",
      "9/9 [==============================] - 93s 11s/step - loss: 0.1714 - accuracy: 0.9928 - val_loss: 0.2064 - val_accuracy: 0.9559\n",
      "Epoch 4/10\n",
      "9/9 [==============================] - 87s 10s/step - loss: 0.1034 - accuracy: 0.9964 - val_loss: 0.1484 - val_accuracy: 0.9559\n",
      "Epoch 5/10\n",
      "9/9 [==============================] - 88s 10s/step - loss: 0.0708 - accuracy: 0.9964 - val_loss: 0.1420 - val_accuracy: 0.9559\n",
      "Epoch 6/10\n",
      "9/9 [==============================] - 88s 10s/step - loss: 0.0533 - accuracy: 0.9964 - val_loss: 0.1036 - val_accuracy: 0.9706\n",
      "Epoch 7/10\n",
      "9/9 [==============================] - 88s 10s/step - loss: 0.0402 - accuracy: 0.9964 - val_loss: 0.0988 - val_accuracy: 0.9706\n",
      "Epoch 8/10\n",
      "9/9 [==============================] - 88s 10s/step - loss: 0.0315 - accuracy: 1.0000 - val_loss: 0.0824 - val_accuracy: 0.9706\n",
      "Epoch 9/10\n",
      "9/9 [==============================] - 97s 11s/step - loss: 0.0270 - accuracy: 1.0000 - val_loss: 0.0808 - val_accuracy: 0.9706\n",
      "Epoch 10/10\n",
      "9/9 [==============================] - 90s 10s/step - loss: 0.0233 - accuracy: 1.0000 - val_loss: 0.0695 - val_accuracy: 0.9706\n"
     ]
    }
   ],
   "source": [
    "epochs = 10 \n",
    "history = model.fit(\n",
    "    train_ds,\n",
    "    epochs=epochs,\n",
    "    validation_data= val_ds,\n",
    ")"
   ]
  },
  {
   "cell_type": "code",
   "execution_count": 5,
   "id": "5cd13892-9de7-4bc7-932e-23f40e433717",
   "metadata": {},
   "outputs": [
    {
     "data": {
      "image/png": "[encoded data removed]",
      "text/plain": [
       "<Figure size 1200x400 with 2 Axes>"
      ]
     },
     "metadata": {},
     "output_type": "display_data"
    }
   ],
   "source": [
    "# Plotting the loss and accuracy for every epochs\n",
    "def plot_history(history):\n",
    "    plt.figure(figsize=(12, 4))\n",
    "    plt.subplot(1, 2, 1)\n",
    "    plt.plot(history.history['accuracy'], label='Train Accuracy')\n",
    "    plt.plot(history.history['val_accuracy'], label='Validation Accuracy')\n",
    "    plt.title('Model Accuracy')\n",
    "    plt.ylabel('Accuracy')\n",
    "    plt.xlabel('Epoch')\n",
    "    plt.legend(loc='lower right')\n",
    "\n",
    "    plt.subplot(1, 2, 2)\n",
    "    plt.plot(history.history['loss'], label='Train Loss')\n",
    "    plt.plot(history.history['val_loss'], label='Validation Loss')\n",
    "    plt.title('Model Loss')\n",
    "    plt.ylabel('Loss')\n",
    "    plt.xlabel('Epoch')\n",
    "    plt.legend(loc='upper right')\n",
    "    \n",
    "    plt.show()\n",
    "\n",
    "plot_history(history)"
   ]
  },
  {
   "cell_type": "code",
   "execution_count": 7,
   "id": "b1ab4ae0-acd1-4332-a4b6-b7d99a10defc",
   "metadata": {},
   "outputs": [
    {
     "name": "stderr",
     "output_type": "stream",
     "text": [
      "C:\\Users\\Divyank\\AppData\\Local\\Programs\\Python\\Python311\\Lib\\site-packages\\keras\\src\\engine\\training.py:3000: UserWarning: You are saving your model as an HDF5 file via `model.save()`. This file format is considered legacy. We recommend using instead the native Keras format, e.g. `model.save('my_model.keras')`.\n",
      "  saving_api.save_model(\n"
     ]
    }
   ],
   "source": [
    "model.save('ResNet.h5') #saved train model "
   ]
  },
  {
   "cell_type": "code",
   "execution_count": 91,
   "id": "18f608c7-1510-4b48-adca-08c031af00af",
   "metadata": {},
   "outputs": [],
   "source": [
    "test_directory = 'test_images' #directory path"
   ]
  },
  {
   "cell_type": "code",
   "execution_count": 92,
   "id": "b9983c13-a801-497e-b414-61d02e4d5152",
   "metadata": {},
   "outputs": [],
   "source": [
    "image_height = 400\n",
    "image_width = 400\n",
    "batch_size = 32"
   ]
  },
  {
   "cell_type": "code",
   "execution_count": 93,
   "id": "5f5f026a-d5dd-4ffe-9669-b3a53cb34f1b",
   "metadata": {},
   "outputs": [],
   "source": [
    "import os"
   ]
  },
  {
   "cell_type": "code",
   "execution_count": 94,
   "id": "f806f1e0-df42-444d-83af-8efc8d0496c2",
   "metadata": {},
   "outputs": [],
   "source": [
    "x = os.listdir(test_directory)"
   ]
  },
  {
   "cell_type": "code",
   "execution_count": 95,
   "id": "ccd724b1-94a6-4a0d-92cb-624b4743836b",
   "metadata": {},
   "outputs": [],
   "source": [
    "from PIL import Image"
   ]
  },
  {
   "cell_type": "code",
   "execution_count": 113,
   "id": "5f5a9aa4-2cff-4fd1-a297-e73d75072226",
   "metadata": {},
   "outputs": [
    {
     "name": "stdout",
     "output_type": "stream",
     "text": [
      "1/1 [==============================] - 0s 324ms/step\n",
      "1/1 [==============================] - 0s 319ms/step\n",
      "1/1 [==============================] - 0s 327ms/step\n",
      "1/1 [==============================] - 0s 320ms/step\n",
      "1/1 [==============================] - 0s 320ms/step\n",
      "1/1 [==============================] - 0s 324ms/step\n",
      "1/1 [==============================] - 0s 321ms/step\n",
      "1/1 [==============================] - 0s 342ms/step\n",
      "1/1 [==============================] - 0s 323ms/step\n",
      "1/1 [==============================] - 0s 321ms/step\n"
     ]
    }
   ],
   "source": [
    "# 1 - pikachu \n",
    "# 2 - plusle\n",
    "# 0 - minun\n",
    "# TESTING THE 10 SAMPLE DATA\n",
    "list_of_output = []\n",
    "for i in x:\n",
    "    dic_class = {\n",
    "        0: \"Minun\",\n",
    "        1: \"Pikachu\",\n",
    "        2: \"Plusle\"\n",
    "    }\n",
    "    image_path = 'test_images/'+i #directory of images\n",
    "    img = Image.open(image_path) \n",
    "    new_size = (400, 400) #new size\n",
    "    img = img.convert('RGB') #making 3 channels\n",
    "    resized_img = img.resize(new_size)  #assign new size\n",
    "    arr = np.array(resized_img) # convert into nd array\n",
    "    expected_shape = (-1, 400, 400, 3) #shape of input layers used for training\n",
    "    arr_reshaped = arr.reshape(expected_shape) #reshape as input \n",
    "    pred = model.predict(arr_reshaped) #predicting\n",
    "    pred_prob = pred.argmax()\n",
    "    if pred_prob in dic_class.keys():\n",
    "        list_of_output.append(dic_class[pred_prob])"
   ]
  },
  {
   "cell_type": "code",
   "execution_count": 114,
   "id": "af8256bf-c703-402d-91cc-aa67e719f563",
   "metadata": {},
   "outputs": [],
   "source": [
    "test_sample_actual_output = [\"Pikachu\",\"Pikachu\",\"Minun\",\"Minun\",\"Minun\",\"Plusle\",\"Pikachu\",\"Plusle\",\"Pikachu\",\"Plusle\"] #actual output"
   ]
  },
  {
   "cell_type": "code",
   "execution_count": 115,
   "id": "425d96e9-2589-4561-85ec-4eb65ada2f06",
   "metadata": {},
   "outputs": [
    {
     "data": {
      "text/plain": [
       "<_BatchDataset element_spec=(TensorSpec(shape=(None, 400, 400, 3), dtype=tf.float32, name=None), TensorSpec(shape=(None, 3), dtype=tf.float32, name=None))>"
      ]
     },
     "execution_count": 115,
     "metadata": {},
     "output_type": "execute_result"
    }
   ],
   "source": [
    "train_ds"
   ]
  },
  {
   "cell_type": "code",
   "execution_count": 121,
   "id": "e5752393-e7ff-46e2-9e5b-88eb676a9653",
   "metadata": {},
   "outputs": [
    {
     "data": {
      "text/plain": [
       "TensorShape([None, 400, 400, 3])"
      ]
     },
     "execution_count": 121,
     "metadata": {},
     "output_type": "execute_result"
    }
   ],
   "source": [
    "train_ds.element_spec[0].shape #shape of trained data input"
   ]
  },
  {
   "cell_type": "code",
   "execution_count": 120,
   "id": "bd0c7517-ea55-469a-955f-b622be6b4c35",
   "metadata": {},
   "outputs": [
    {
     "data": {
      "text/plain": [
       "['Pikachu', 'Plusle', 'Plusle']"
      ]
     },
     "execution_count": 120,
     "metadata": {},
     "output_type": "execute_result"
    }
   ],
   "source": [
    "list_of_output[0:3] #predicted outputs"
   ]
  },
  {
   "cell_type": "code",
   "execution_count": 118,
   "id": "c264ac6e-827e-4d60-b4d9-4a7a3cd0d47f",
   "metadata": {},
   "outputs": [
    {
     "name": "stdout",
     "output_type": "stream",
     "text": [
      "Correct\n",
      "Wrong\n",
      "Wrong\n",
      "Wrong\n",
      "Correct\n",
      "Correct\n",
      "Wrong\n",
      "Correct\n",
      "Correct\n",
      "Correct\n"
     ]
    }
   ],
   "source": [
    "for m in range(len(list_of_output)): #Comparison\n",
    "    if list_of_output[m] == test_sample_actual_output[m]:\n",
    "        print(\"Correct\")\n",
    "    else:\n",
    "        print(\"Wrong\")"
   ]
  },
  {
   "cell_type": "code",
   "execution_count": 122,
   "id": "66497d92-ac58-4fd8-beac-4528f4b9af23",
   "metadata": {},
   "outputs": [],
   "source": [
    "from sklearn.metrics import confusion_matrix, precision_recall_fscore_support, classification_report"
   ]
  },
  {
   "cell_type": "code",
   "execution_count": 134,
   "id": "8c89a980-2ef1-423e-a460-b824bf7d3b67",
   "metadata": {},
   "outputs": [
    {
     "name": "stdout",
     "output_type": "stream",
     "text": [
      "[[1 0 2]\n",
      " [0 2 2]\n",
      " [0 0 3]]\n"
     ]
    }
   ],
   "source": [
    "# Can determine the performance based on 10 sample , but this are confusing images we got but it has less quantity.\n",
    "cm = confusion_matrix(test_sample_actual_output,list_of_output)\n",
    "print(cm)"
   ]
  },
  {
   "cell_type": "code",
   "execution_count": 133,
   "id": "36b1c627-f46c-40bc-bcb1-934481241032",
   "metadata": {},
   "outputs": [
    {
     "name": "stdout",
     "output_type": "stream",
     "text": [
      "              precision    recall  f1-score   support\n",
      "\n",
      "       Minun       1.00      0.33      0.50         3\n",
      "     Pikachu       1.00      0.50      0.67         4\n",
      "      Plusle       0.43      1.00      0.60         3\n",
      "\n",
      "    accuracy                           0.60        10\n",
      "   macro avg       0.81      0.61      0.59        10\n",
      "weighted avg       0.83      0.60      0.60        10\n",
      "\n"
     ]
    }
   ],
   "source": [
    "report = classification_report(\n",
    "    test_sample_actual_output,\n",
    "    list_of_output,\n",
    ")\n",
    "print(report)"
   ]
  },
  {
   "cell_type": "code",
   "execution_count": null,
   "id": "99870e95-42e2-4aef-9342-5cbdd91da85d",
   "metadata": {},
   "outputs": [],
   "source": []
  }
 ],
 "metadata": {
  "kernelspec": {
   "display_name": "Python 3 (ipykernel)",
   "language": "python",
   "name": "python3"
  },
  "language_info": {
   "codemirror_mode": {
    "name": "ipython",
    "version": 3
   },
   "file_extension": ".py",
   "mimetype": "text/x-python",
   "name": "python",
   "nbconvert_exporter": "python",
   "pygments_lexer": "ipython3",
   "version": "3.11.5"
  }
 },
 "nbformat": 4,
 "nbformat_minor": 5
}
