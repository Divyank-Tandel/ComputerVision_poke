{
 "cells": [
  {
   "cell_type": "code",
   "execution_count": 1,
   "id": "475ec30f-71c1-4dfd-841a-90c406463c70",
   "metadata": {},
   "outputs": [],
   "source": [
    "import tensorflow as tf\n",
    "import matplotlib.pyplot as plt\n",
    "import numpy as np\n",
    "import pandas as pd\n",
    "from tensorflow.keras import layers, models\n",
    "from tensorflow.keras.preprocessing.image import ImageDataGenerator,load_img, img_to_array\n",
    "from sklearn.metrics import confusion_matrix, classification_report"
   ]
  },
  {
   "cell_type": "code",
   "execution_count": 2,
   "id": "231b6be9-cf0a-4140-bb95-98c7930f297d",
   "metadata": {},
   "outputs": [],
   "source": [
    "train_data = 'dataset' # name of folder where training data is stored.\n",
    "# Note - Dataset contains less pictures so to cover the size, \n",
    "# We used Data Augmentation to increase the size of dataset."
   ]
  },
  {
   "cell_type": "code",
   "execution_count": 3,
   "id": "3a4e7324-da94-4b62-b08c-c22630c2a745",
   "metadata": {},
   "outputs": [],
   "source": [
    "img_height, img_width = 400, 400  # Use the pixel size of your images\n",
    "batch_size = 32\n",
    "num_classes = 3 # 3 characters "
   ]
  },
  {
   "cell_type": "code",
   "execution_count": 4,
   "id": "7c583d4a-a140-4553-bf9b-27461834e2a4",
   "metadata": {},
   "outputs": [],
   "source": [
    "train_datagen = ImageDataGenerator(\n",
    "    rescale=1./255,\n",
    "    validation_split=0.2 \n",
    ")\n",
    "# rescale -> Normalizes pixel values from (0,255) range to (0,1)\n",
    "# Validation data split 0.2 which is 20% of data."
   ]
  },
  {
   "cell_type": "code",
   "execution_count": 5,
   "id": "75d5f317-2c26-4e51-b4f7-e6c678a204be",
   "metadata": {},
   "outputs": [
    {
     "name": "stdout",
     "output_type": "stream",
     "text": [
      "Found 276 images belonging to 3 classes.\n"
     ]
    }
   ],
   "source": [
    "train_generator = train_datagen.flow_from_directory(\n",
    "    train_data,\n",
    "    target_size=(img_height, img_width), # All images are resized to specified dimensions\n",
    "    batch_size=batch_size, \n",
    "    class_mode='categorical', # For multi-class classification\n",
    "    subset='training'\n",
    ")\n",
    "#flow_from_directory reads the images from the directory . It assumes the directory contains subdirectories,\n",
    "# where each subdirectory name corresponds to a class label , as we kept in 'train_data' -> dataset\n",
    "#Spliting data into train_data and validation data"
   ]
  },
  {
   "cell_type": "code",
   "execution_count": 6,
   "id": "82841256-3865-4b24-ba20-266abdb34d47",
   "metadata": {},
   "outputs": [
    {
     "name": "stdout",
     "output_type": "stream",
     "text": [
      "Found 68 images belonging to 3 classes.\n"
     ]
    }
   ],
   "source": [
    "validation_generator = train_datagen.flow_from_directory(\n",
    "    train_data,\n",
    "    target_size=(img_height, img_width),\n",
    "    batch_size=batch_size,\n",
    "    class_mode='categorical',\n",
    "    subset='validation'\n",
    ")\n",
    "# Same as Train_generator"
   ]
  },
  {
   "cell_type": "code",
   "execution_count": 7,
   "id": "9de16ed9-454e-4235-a7d0-44712fe6de5b",
   "metadata": {},
   "outputs": [],
   "source": [
    "model = models.Sequential([\n",
    "    layers.Conv2D(32, (3, 3), activation='relu', input_shape=(img_height, img_width, 3)),\n",
    "    layers.MaxPooling2D((2, 2)),\n",
    "    layers.Conv2D(64, (3, 3), activation='relu'),\n",
    "    layers.MaxPooling2D((2, 2)),\n",
    "    layers.Conv2D(128, (3, 3), activation='relu'),\n",
    "    layers.MaxPooling2D((2, 2)),\n",
    "    layers.Flatten(),\n",
    "    layers.Dense(128, activation='relu'),\n",
    "    layers.Dense(num_classes, activation='softmax')  \n",
    "]) # Model "
   ]
  },
  {
   "cell_type": "code",
   "execution_count": 8,
   "id": "77f5e90a-8990-42f7-a349-9584004a6ded",
   "metadata": {},
   "outputs": [],
   "source": [
    "model.compile(optimizer='adam',\n",
    "              loss='categorical_crossentropy',\n",
    "              metrics=['accuracy']) "
   ]
  },
  {
   "cell_type": "code",
   "execution_count": 9,
   "id": "46226e24-df26-4da8-9825-78ebf6e31923",
   "metadata": {},
   "outputs": [
    {
     "name": "stdout",
     "output_type": "stream",
     "text": [
      "Epoch 1/10\n",
      "8/8 [==============================] - 59s 7s/step - loss: 6.1298 - accuracy: 0.3443 - val_loss: 1.4721 - val_accuracy: 0.3594\n",
      "Epoch 2/10\n",
      "8/8 [==============================] - 45s 6s/step - loss: 1.0084 - accuracy: 0.5246 - val_loss: 0.8117 - val_accuracy: 0.6250\n",
      "Epoch 3/10\n",
      "8/8 [==============================] - 44s 6s/step - loss: 0.4681 - accuracy: 0.8164 - val_loss: 0.5194 - val_accuracy: 0.7812\n",
      "Epoch 4/10\n",
      "8/8 [==============================] - 48s 6s/step - loss: 0.2484 - accuracy: 0.9141 - val_loss: 0.2819 - val_accuracy: 0.9219\n",
      "Epoch 5/10\n",
      "8/8 [==============================] - 41s 5s/step - loss: 0.1255 - accuracy: 0.9590 - val_loss: 0.1566 - val_accuracy: 0.8906\n",
      "Epoch 6/10\n",
      "8/8 [==============================] - 46s 6s/step - loss: 0.0578 - accuracy: 0.9713 - val_loss: 0.1738 - val_accuracy: 0.9062\n",
      "Epoch 7/10\n",
      "8/8 [==============================] - 44s 5s/step - loss: 0.0261 - accuracy: 0.9961 - val_loss: 0.4491 - val_accuracy: 0.7812\n",
      "Epoch 8/10\n",
      "8/8 [==============================] - 42s 5s/step - loss: 0.0252 - accuracy: 1.0000 - val_loss: 0.1732 - val_accuracy: 0.9219\n",
      "Epoch 9/10\n",
      "8/8 [==============================] - 40s 5s/step - loss: 0.0098 - accuracy: 1.0000 - val_loss: 0.0728 - val_accuracy: 0.9688\n",
      "Epoch 10/10\n",
      "8/8 [==============================] - 40s 5s/step - loss: 0.0060 - accuracy: 1.0000 - val_loss: 0.0809 - val_accuracy: 1.0000\n"
     ]
    }
   ],
   "source": [
    "epochs = 10 \n",
    "history = model.fit(\n",
    "    train_generator,\n",
    "    steps_per_epoch=train_generator.samples // batch_size,\n",
    "    epochs=epochs,\n",
    "    validation_data=validation_generator,\n",
    "    validation_steps=validation_generator.samples // batch_size\n",
    ")"
   ]
  },
  {
   "cell_type": "code",
   "execution_count": 10,
   "id": "ff8c4378-efd0-48f3-b983-80f45f7469bf",
   "metadata": {},
   "outputs": [
    {
     "name": "stdout",
     "output_type": "stream",
     "text": [
      "3/3 [==============================] - 3s 645ms/step - loss: 0.0765 - accuracy: 1.0000\n",
      "Validation Accuracy: 1.0\n"
     ]
    }
   ],
   "source": [
    "# Final Evaluation \n",
    "test_loss, test_accuracy = model.evaluate(validation_generator)\n",
    "print(f\"Validation Accuracy: {test_accuracy}\")"
   ]
  },
  {
   "cell_type": "code",
   "execution_count": 11,
   "id": "2ebeea04-1479-4f4b-8f85-78d1678d4c1d",
   "metadata": {},
   "outputs": [
    {
     "name": "stderr",
     "output_type": "stream",
     "text": [
      "C:\\Users\\Divyank\\AppData\\Local\\Programs\\Python\\Python311\\Lib\\site-packages\\keras\\src\\engine\\training.py:3000: UserWarning: You are saving your model as an HDF5 file via `model.save()`. This file format is considered legacy. We recommend using instead the native Keras format, e.g. `model.save('my_model.keras')`.\n",
      "  saving_api.save_model(\n"
     ]
    }
   ],
   "source": [
    "model.save('character_identify_model.h5') # Model Save"
   ]
  },
  {
   "cell_type": "code",
   "execution_count": 12,
   "id": "bb2af43e-d8aa-4509-bc47-54916e568021",
   "metadata": {},
   "outputs": [
    {
     "data": {
      "text/plain": [
       "dict_items([('Minun', 0), ('Pikachu', 1), ('Plusle', 2)])"
      ]
     },
     "execution_count": 12,
     "metadata": {},
     "output_type": "execute_result"
    }
   ],
   "source": [
    "train_generator.class_indices.items()"
   ]
  },
  {
   "cell_type": "code",
   "execution_count": 13,
   "id": "e35127c3-4ce9-4268-9ede-74957c8dc65c",
   "metadata": {},
   "outputs": [
    {
     "data": {
      "image/png": "[encoded data removed]",
      "text/plain": [
       "<Figure size 1200x400 with 2 Axes>"
      ]
     },
     "metadata": {},
     "output_type": "display_data"
    }
   ],
   "source": [
    "# Plotting the loss and accuracy for every epochs\n",
    "def plot_history(history):\n",
    "    plt.figure(figsize=(12, 4))\n",
    "    plt.subplot(1, 2, 1)\n",
    "    plt.plot(history.history['accuracy'], label='Train Accuracy')\n",
    "    plt.plot(history.history['val_accuracy'], label='Validation Accuracy')\n",
    "    plt.title('Model Accuracy')\n",
    "    plt.ylabel('Accuracy')\n",
    "    plt.xlabel('Epoch')\n",
    "    plt.legend(loc='lower right')\n",
    "\n",
    "    plt.subplot(1, 2, 2)\n",
    "    plt.plot(history.history['loss'], label='Train Loss')\n",
    "    plt.plot(history.history['val_loss'], label='Validation Loss')\n",
    "    plt.title('Model Loss')\n",
    "    plt.ylabel('Loss')\n",
    "    plt.xlabel('Epoch')\n",
    "    plt.legend(loc='upper right')\n",
    "    \n",
    "    plt.show()\n",
    "\n",
    "plot_history(history)"
   ]
  },
  {
   "cell_type": "code",
   "execution_count": 14,
   "id": "a1eab4d2-ec61-40a2-90cc-3088ff5ea9f4",
   "metadata": {},
   "outputs": [
    {
     "name": "stdout",
     "output_type": "stream",
     "text": [
      "3/3 [==============================] - 3s 642ms/step\n",
      "\n",
      "Confusion Matrix:\n",
      "         Minun  Pikachu  Plusle\n",
      "Minun        9        8       7\n",
      "Pikachu      7       10       7\n",
      "Plusle       8        6       6\n"
     ]
    }
   ],
   "source": [
    "# 1. Get true labels and predictions\n",
    "val_steps = validation_generator.samples // batch_size + 1 # Include all samples\n",
    "Y_pred = model.predict(validation_generator, steps=val_steps)\n",
    "y_pred_classes = np.argmax(Y_pred, axis=1) # Predicted classes\n",
    "\n",
    "# Get true labels for all validation data\n",
    "y_true = validation_generator.classes[:validation_generator.samples]\n",
    "\n",
    "# 2. Get the index mapping from the generator (e.g., {'class_A': 0, 'class_B': 1, ...})\n",
    "class_labels = list(validation_generator.class_indices.keys())\n",
    "\n",
    "# 3. Create Confusion Matrix\n",
    "conf_matrix = confusion_matrix(y_true, y_pred_classes)\n",
    "print(\"\\nConfusion Matrix:\")\n",
    "# Display as a DataFrame for better readability\n",
    "conf_df = pd.DataFrame(conf_matrix, index=class_labels, columns=class_labels)\n",
    "print(conf_df)"
   ]
  },
  {
   "cell_type": "code",
   "execution_count": 15,
   "id": "eae3c416-fe94-42e4-82f3-aa41fad84058",
   "metadata": {},
   "outputs": [
    {
     "name": "stdout",
     "output_type": "stream",
     "text": [
      "\n",
      "Classification Report:\n",
      "              precision    recall  f1-score   support\n",
      "\n",
      "       Minun       0.38      0.38      0.38        24\n",
      "     Pikachu       0.42      0.42      0.42        24\n",
      "      Plusle       0.30      0.30      0.30        20\n",
      "\n",
      "    accuracy                           0.37        68\n",
      "   macro avg       0.36      0.36      0.36        68\n",
      "weighted avg       0.37      0.37      0.37        68\n",
      "\n"
     ]
    }
   ],
   "source": [
    "# Generate Classification Report\n",
    "report = classification_report(y_true, y_pred_classes, target_names=class_labels)\n",
    "print(\"\\nClassification Report:\")\n",
    "print(report)"
   ]
  },
  {
   "cell_type": "code",
   "execution_count": 16,
   "id": "7d502565-71ec-434d-a9b6-d806e9dca52b",
   "metadata": {},
   "outputs": [],
   "source": [
    "# Converting single img to (0,1) of same size and dim and predicting its class\n",
    "def predict_image(model_path, image_path, target_size):\n",
    "    loaded_model = tf.keras.models.load_model(model_path) #loading the trained model\n",
    "    img = load_img(image_path, target_size=target_size) #using load_img keras fn\n",
    "    img_array = img_to_array(img) # pixels to array\n",
    "    img_array = np.expand_dims(img_array, axis=0)  # Adding batch dimension\n",
    "    img_array /= 255.0  # Normalizing the image (0,1)\n",
    "\n",
    "    predictions = loaded_model.predict(img_array) # Adding normalize img to predict fn\n",
    "    predicted_class_index = np.argmax(predictions) \n",
    "\n",
    "    class_labels = {v: k for k, v in train_generator.class_indices.items()} # Mapping from class indices to labels\n",
    "    \n",
    "    print(predictions) \n",
    "    print(predicted_class_index)\n",
    "    print(class_labels)\n",
    "    predicted_class_label = class_labels[predicted_class_index]\n",
    "    return predicted_class_label"
   ]
  },
  {
   "cell_type": "code",
   "execution_count": 17,
   "id": "4c6b2743-316d-40fb-b2f9-f84e591bd53b",
   "metadata": {},
   "outputs": [],
   "source": [
    "# Single Image prediction\n",
    "model_path = 'character_identify_model.h5'  # Path of saved model\n",
    "single_image_path = 'test_images\\image.png'  # Path to the image you want to predict"
   ]
  },
  {
   "cell_type": "code",
   "execution_count": 18,
   "id": "066d2695-db62-4f63-91c3-49820fd38c46",
   "metadata": {},
   "outputs": [
    {
     "name": "stdout",
     "output_type": "stream",
     "text": [
      "1/1 [==============================] - 0s 175ms/step\n",
      "[[1.7381291e-07 9.9997544e-01 2.4400742e-05]]\n",
      "1\n",
      "{0: 'Minun', 1: 'Pikachu', 2: 'Plusle'}\n",
      "Predicted class for the image is 'Pikachu'\n"
     ]
    }
   ],
   "source": [
    "predicted_class = predict_image(model_path, single_image_path, (img_height, img_width)) #calling fn\n",
    "print(f\"Predicted class for the image is '{predicted_class}'\")"
   ]
  },
  {
   "cell_type": "code",
   "execution_count": null,
   "id": "41ae4915-9d65-457e-aa89-8ce37df035a0",
   "metadata": {},
   "outputs": [],
   "source": []
  },
  {
   "cell_type": "code",
   "execution_count": null,
   "id": "8836e9bb-79e7-4f67-912f-989a6a62893d",
   "metadata": {},
   "outputs": [],
   "source": []
  },
  {
   "cell_type": "code",
   "execution_count": null,
   "id": "1ea4b470-e9b6-4fc4-94d0-f3481981376a",
   "metadata": {},
   "outputs": [],
   "source": [
    "\n",
    "\n"
   ]
  },
  {
   "cell_type": "code",
   "execution_count": null,
   "id": "4f166434-a706-4a6a-a4d7-6746019bfd54",
   "metadata": {},
   "outputs": [],
   "source": []
  },
  {
   "cell_type": "code",
   "execution_count": null,
   "id": "93fc002d-2a36-4968-b05a-cbfffe37ae05",
   "metadata": {},
   "outputs": [],
   "source": []
  },
  {
   "cell_type": "code",
   "execution_count": null,
   "id": "96c658e0-59c9-4445-9172-ce53cbeb4c18",
   "metadata": {},
   "outputs": [],
   "source": []
  },
  {
   "cell_type": "code",
   "execution_count": null,
   "id": "c884338d-2638-4be2-9091-0ba473d805e8",
   "metadata": {},
   "outputs": [],
   "source": []
  },
  {
   "cell_type": "code",
   "execution_count": null,
   "id": "3369bc10-f2ed-41ed-9831-4286f3397575",
   "metadata": {},
   "outputs": [],
   "source": []
  },
  {
   "cell_type": "code",
   "execution_count": null,
   "id": "a7bec2da-b089-4333-85c1-d25fa7e592d3",
   "metadata": {},
   "outputs": [],
   "source": []
  },
  {
   "cell_type": "code",
   "execution_count": null,
   "id": "d428f2df-556e-4113-9822-08e6073ba0b6",
   "metadata": {},
   "outputs": [],
   "source": []
  },
  {
   "cell_type": "code",
   "execution_count": null,
   "id": "e6d5efe2-df3f-455d-ba52-b2f3cfd25e49",
   "metadata": {},
   "outputs": [],
   "source": []
  },
  {
   "cell_type": "code",
   "execution_count": null,
   "id": "8fbe7ed5-4541-4df4-976e-ce4199966cf1",
   "metadata": {},
   "outputs": [],
   "source": []
  },
  {
   "cell_type": "code",
   "execution_count": null,
   "id": "c94d8243-6646-43a1-a277-9310d90865bf",
   "metadata": {},
   "outputs": [],
   "source": []
  },
  {
   "cell_type": "code",
   "execution_count": null,
   "id": "977c3d2e-b8f2-4475-ab1b-6976b334aa38",
   "metadata": {},
   "outputs": [],
   "source": []
  },
  {
   "cell_type": "code",
   "execution_count": null,
   "id": "8864c27a-c891-427f-8084-3fd9d26c0c6d",
   "metadata": {},
   "outputs": [],
   "source": []
  },
  {
   "cell_type": "code",
   "execution_count": null,
   "id": "a9857611-c665-4377-9ee4-de61f8a333b8",
   "metadata": {},
   "outputs": [],
   "source": []
  },
  {
   "cell_type": "raw",
   "id": "61b679ed-8e0f-450a-a603-2ea5dcd7141b",
   "metadata": {},
   "source": []
  },
  {
   "cell_type": "code",
   "execution_count": null,
   "id": "257bc488-7c6b-4302-8c60-5ddde03d4e04",
   "metadata": {},
   "outputs": [],
   "source": []
  },
  {
   "cell_type": "code",
   "execution_count": null,
   "id": "e2262e0f-8f92-419e-a145-ff7344c73721",
   "metadata": {},
   "outputs": [],
   "source": []
  }
 ],
 "metadata": {
  "kernelspec": {
   "display_name": "Python 3 (ipykernel)",
   "language": "python",
   "name": "python3"
  },
  "language_info": {
   "codemirror_mode": {
    "name": "ipython",
    "version": 3
   },
   "file_extension": ".py",
   "mimetype": "text/x-python",
   "name": "python",
   "nbconvert_exporter": "python",
   "pygments_lexer": "ipython3",
   "version": "3.11.5"
  }
 },
 "nbformat": 4,
 "nbformat_minor": 5
}
